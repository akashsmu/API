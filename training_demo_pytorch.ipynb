{
  "cells": [
    {
      "cell_type": "markdown",
      "metadata": {
        "id": "view-in-github",
        "colab_type": "text"
      },
      "source": [
        "<a href=\"https://colab.research.google.com/github/akashsmu/API/blob/main/training_demo_pytorch.ipynb\" target=\"_parent\"><img src=\"https://colab.research.google.com/assets/colab-badge.svg\" alt=\"Open In Colab\"/></a>"
      ]
    },
    {
      "cell_type": "markdown",
      "metadata": {
        "id": "VwuEF2VsNVqP"
      },
      "source": [
        "# training demo for pytorch models"
      ]
    },
    {
      "cell_type": "code",
      "execution_count": 1,
      "metadata": {
        "id": "jOaatTgdNVqQ"
      },
      "outputs": [],
      "source": [
        "import numpy as np\n",
        "import torch\n",
        "import torch.nn as nn\n",
        "from sklearn.metrics import roc_auc_score\n",
        "from sklearn.preprocessing import StandardScaler\n",
        "import pandas as pd"
      ]
    },
    {
      "cell_type": "code",
      "execution_count": 2,
      "metadata": {
        "id": "QfB7Lc2uNVqR"
      },
      "outputs": [],
      "source": [
        "# load training data\n",
        "Xtr_loadpath = 'Xtr.csv'\n",
        "Xts_loadpath = 'Xts.csv'\n",
        "ytr_loadpath = 'ytr.csv'\n",
        "\n",
        "Xtr = np.loadtxt(Xtr_loadpath, delimiter=\",\")\n",
        "Xts = np.loadtxt(Xts_loadpath, delimiter=\",\")\n",
        "ytr = np.loadtxt(ytr_loadpath, delimiter=\",\")"
      ]
    },
    {
      "cell_type": "code",
      "execution_count": 3,
      "metadata": {
        "id": "iOo1pPnxNVqR"
      },
      "outputs": [],
      "source": [
        "# standardize the training data\n",
        "scaler = StandardScaler()\n",
        "Xtr_standardized = scaler.fit_transform(Xtr) # revise this line as needed\n",
        "Xts_standardized = scaler.transform(Xts) # revise this line as needed\n",
        "ytr_standardized = ytr # revise this line as needed\n",
        "\n",
        "# save the standardized training data\n",
        "Xtr_savepath = 'Xtr_pytorch.csv'\n",
        "Xts_savepath = 'Xts_pytorch.csv'\n",
        "ytr_savepath = 'ytr_pytorch.csv'\n",
        "yts_hat_savepath = 'yts_hat_pytorch.csv'\n",
        "\n",
        "np.savetxt(Xtr_savepath, Xtr_standardized, delimiter=\",\")\n",
        "np.savetxt(Xts_savepath, Xts_standardized, delimiter=\",\")\n",
        "np.savetxt(ytr_savepath, ytr_standardized, delimiter=\",\")"
      ]
    },
    {
      "cell_type": "code",
      "source": [
        "Xtr_py = pd.read_csv('Xtr_pytorch.csv',header = None)\n",
        "ytr_py = pd.read_csv('ytr_pytorch.csv',header = None)\n",
        "\n",
        "\n",
        "Xts_py = pd.read_csv('Xts_pytorch.csv',header = None)\n",
        "\n",
        "print('The shape of the training data Xtr is {}'.format(Xtr_py.shape))\n",
        "print('The shape of the training target ytr is {}'.format(ytr_py.shape))\n",
        "\n",
        "print('The shape of the testing data Xts is {}'.format(Xts_py.shape))"
      ],
      "metadata": {
        "colab": {
          "base_uri": "https://localhost:8080/"
        },
        "id": "atYEVEOZedq3",
        "outputId": "444b7f8a-2831-4108-e7a8-85ad401813bc"
      },
      "execution_count": 4,
      "outputs": [
        {
          "output_type": "stream",
          "name": "stdout",
          "text": [
            "The shape of the training data Xtr is (10000, 8)\n",
            "The shape of the training target ytr is (10000, 1)\n",
            "The shape of the testing data Xts is (10000, 8)\n"
          ]
        }
      ]
    },
    {
      "cell_type": "code",
      "source": [
        "np.mean(Xts_py,axis=0)"
      ],
      "metadata": {
        "colab": {
          "base_uri": "https://localhost:8080/"
        },
        "id": "qa1z0oEUxoFF",
        "outputId": "0958ff96-57c5-4dc7-95ce-e8d0403f3b60"
      },
      "execution_count": 5,
      "outputs": [
        {
          "output_type": "execute_result",
          "data": {
            "text/plain": [
              "0    0.026618\n",
              "1   -0.014614\n",
              "2    0.024107\n",
              "3    0.005479\n",
              "4    0.027168\n",
              "5   -0.007291\n",
              "6    0.023236\n",
              "7    0.035538\n",
              "dtype: float64"
            ]
          },
          "metadata": {},
          "execution_count": 5
        }
      ]
    },
    {
      "cell_type": "code",
      "source": [
        "from torch.utils.data import TensorDataset\n",
        "from torch.utils.data import DataLoader\n",
        "\n",
        "batch_size = 64\n",
        "\n",
        "# TODO Convert the numpy arrays to tensors\n",
        "Xtr_torch = torch.Tensor(Xtr_standardized)\n",
        "ytr_torch = torch.Tensor(ytr_standardized)\n",
        "\n",
        "Xts_torch = torch.Tensor(Xts_standardized)\n",
        "\n",
        "# TODO Create a training/test dataset from the tensors\n",
        "train_ds = TensorDataset(Xtr_torch,ytr_torch)\n",
        "test_ds =  TensorDataset(Xts_torch)\n",
        "\n",
        "\n",
        "# TODO Create a training/test data loader from datasets\n",
        "train_loader = DataLoader(train_ds,batch_size=64,shuffle =True)\n",
        "test_loader =  DataLoader(test_ds,batch_size=64, shuffle = True)"
      ],
      "metadata": {
        "id": "YP5GFICoeZqd"
      },
      "execution_count": 129,
      "outputs": []
    },
    {
      "cell_type": "code",
      "execution_count": 140,
      "metadata": {
        "colab": {
          "base_uri": "https://localhost:8080/"
        },
        "id": "StifccKhNVqS",
        "outputId": "6f51ced9-0f98-4d80-e1f4-3675aa514d0d"
      },
      "outputs": [
        {
          "output_type": "stream",
          "name": "stdout",
          "text": [
            "Net(\n",
            "  (relu): LeakyReLU(negative_slope=0.01)\n",
            "  (sigmoid): Sigmoid()\n",
            "  (Dense1): Linear(in_features=8, out_features=256, bias=True)\n",
            "  (Dense2): Linear(in_features=256, out_features=1, bias=True)\n",
            "  (dropout): Dropout(p=0.3, inplace=False)\n",
            ")\n"
          ]
        }
      ],
      "source": [
        "# create a model\n",
        "d_in = Xtr_py.shape[1]\n",
        "d_out = 1\n",
        "nh = 256\n",
        "\n",
        "class Net(nn.Module):\n",
        "    def __init__(self,din,dout,nh):\n",
        "      super(Net, self).__init__()\n",
        "      self.relu = nn.LeakyReLU()\n",
        "      self.sigmoid = nn.Sigmoid()\n",
        "      self.Dense1 = nn.Linear(din,nh)\n",
        "      self.Dense2 = nn.Linear(nh,dout)\n",
        "      self.dropout = nn.Dropout(0.3)\n",
        "    def forward(self,x):\n",
        "      x = self.relu(self.Dense1(x))\n",
        "      out = self.sigmoid(self.Dense2(x))\n",
        "      return out\n",
        "\n",
        "\n",
        "model = Net(d_in,d_out,nh)   \n",
        "print(str(model))\n"
      ]
    },
    {
      "cell_type": "code",
      "source": [
        "# Defining the optimizer\n",
        "import torch.optim as optim\n",
        "\n",
        "lr = 1e-2\n",
        "opt = optim.Adam(model.parameters(),lr=lr)\n",
        "#opt = optim.SGD(model.parameters(), lr=lr, momentum=0.99, nesterov=True)\n",
        "criterion = nn.BCELoss()"
      ],
      "metadata": {
        "id": "3TsHXE1fkmSh"
      },
      "execution_count": 142,
      "outputs": []
    },
    {
      "cell_type": "code",
      "source": [
        "# TODO Train model for 10 epochs\n",
        "num_epoch = 100\n",
        "\n",
        "a_tr_loss = np.zeros([num_epoch])\n",
        "a_tr_loss_1 = []\n",
        "a_tr_accuracy = np.zeros([num_epoch])\n",
        "a_ts_loss = np.zeros([num_epoch])\n",
        "a_ts_accuracy = np.zeros([num_epoch])\n",
        "batch_size =[]\n",
        "\n",
        "for epoch in range(num_epoch):\n",
        "\n",
        "    model.train() # put model in training mode\n",
        "    correct = 0 # initialize error counter\n",
        "    total = 0 # initialize total counter\n",
        "    batch_loss_tr = []\n",
        "    # iterate over training set\n",
        "    for train_iter, data in enumerate(train_loader):\n",
        "        x_batch,y_batch = data\n",
        "        #y_batch = y_batch.type(torch.float)\n",
        "        out = model(x_batch)\n",
        "        out = torch.flatten(out)\n",
        "        #print(out.shape)\n",
        "        # Compute Loss\n",
        "        loss = criterion(out,y_batch)\n",
        "        batch_loss_tr.append(loss.item())\n",
        "        # Compute gradients using back propagation\n",
        "        opt.zero_grad()\n",
        "        loss.backward()\n",
        "        # Take an optimization 'step'\n",
        "        opt.step()\n",
        "        #print(out.data)\n",
        "        # Do hard classification: index of largest score\n",
        "        # _, predicted = torch.max(out.data, 1)\n",
        "        # # Compute number of decision errors\n",
        "        # total += y_batch.size(0)\n",
        "        # batch_size.append(y_batch.size(0))\n",
        "        # correct += (predicted == y_batch).sum().item()\n",
        "        \n",
        "    a_tr_loss[epoch]= np.mean(batch_loss_tr) # Compute average loss over epoch\n",
        "    # a_tr_accuracy[epoch] = 100*correct/total\n",
        "    print('Epoch: {0:2d}   Train Loss: {1:.3f}   '.format(epoch+1, a_tr_loss[epoch]))"
      ],
      "metadata": {
        "colab": {
          "base_uri": "https://localhost:8080/"
        },
        "id": "zhDux_Nzk6o_",
        "outputId": "4bcae930-107c-44c6-c089-f07a798f245b"
      },
      "execution_count": 143,
      "outputs": [
        {
          "output_type": "stream",
          "name": "stdout",
          "text": [
            "Epoch:  1   Train Loss: 0.413   \n",
            "Epoch:  2   Train Loss: 0.378   \n",
            "Epoch:  3   Train Loss: 0.357   \n",
            "Epoch:  4   Train Loss: 0.360   \n",
            "Epoch:  5   Train Loss: 0.352   \n",
            "Epoch:  6   Train Loss: 0.348   \n",
            "Epoch:  7   Train Loss: 0.344   \n",
            "Epoch:  8   Train Loss: 0.346   \n",
            "Epoch:  9   Train Loss: 0.344   \n",
            "Epoch: 10   Train Loss: 0.338   \n",
            "Epoch: 11   Train Loss: 0.336   \n",
            "Epoch: 12   Train Loss: 0.336   \n",
            "Epoch: 13   Train Loss: 0.334   \n",
            "Epoch: 14   Train Loss: 0.332   \n",
            "Epoch: 15   Train Loss: 0.333   \n",
            "Epoch: 16   Train Loss: 0.331   \n",
            "Epoch: 17   Train Loss: 0.329   \n",
            "Epoch: 18   Train Loss: 0.326   \n",
            "Epoch: 19   Train Loss: 0.325   \n",
            "Epoch: 20   Train Loss: 0.325   \n",
            "Epoch: 21   Train Loss: 0.321   \n",
            "Epoch: 22   Train Loss: 0.322   \n",
            "Epoch: 23   Train Loss: 0.321   \n",
            "Epoch: 24   Train Loss: 0.323   \n",
            "Epoch: 25   Train Loss: 0.321   \n",
            "Epoch: 26   Train Loss: 0.322   \n",
            "Epoch: 27   Train Loss: 0.323   \n",
            "Epoch: 28   Train Loss: 0.320   \n",
            "Epoch: 29   Train Loss: 0.317   \n",
            "Epoch: 30   Train Loss: 0.317   \n",
            "Epoch: 31   Train Loss: 0.320   \n",
            "Epoch: 32   Train Loss: 0.315   \n",
            "Epoch: 33   Train Loss: 0.321   \n",
            "Epoch: 34   Train Loss: 0.314   \n",
            "Epoch: 35   Train Loss: 0.316   \n",
            "Epoch: 36   Train Loss: 0.313   \n",
            "Epoch: 37   Train Loss: 0.312   \n",
            "Epoch: 38   Train Loss: 0.310   \n",
            "Epoch: 39   Train Loss: 0.311   \n",
            "Epoch: 40   Train Loss: 0.310   \n",
            "Epoch: 41   Train Loss: 0.308   \n",
            "Epoch: 42   Train Loss: 0.308   \n",
            "Epoch: 43   Train Loss: 0.304   \n",
            "Epoch: 44   Train Loss: 0.308   \n",
            "Epoch: 45   Train Loss: 0.307   \n",
            "Epoch: 46   Train Loss: 0.303   \n",
            "Epoch: 47   Train Loss: 0.305   \n",
            "Epoch: 48   Train Loss: 0.307   \n",
            "Epoch: 49   Train Loss: 0.306   \n",
            "Epoch: 50   Train Loss: 0.305   \n",
            "Epoch: 51   Train Loss: 0.307   \n",
            "Epoch: 52   Train Loss: 0.306   \n",
            "Epoch: 53   Train Loss: 0.300   \n",
            "Epoch: 54   Train Loss: 0.303   \n",
            "Epoch: 55   Train Loss: 0.301   \n",
            "Epoch: 56   Train Loss: 0.301   \n",
            "Epoch: 57   Train Loss: 0.305   \n",
            "Epoch: 58   Train Loss: 0.300   \n",
            "Epoch: 59   Train Loss: 0.301   \n",
            "Epoch: 60   Train Loss: 0.299   \n",
            "Epoch: 61   Train Loss: 0.299   \n",
            "Epoch: 62   Train Loss: 0.306   \n",
            "Epoch: 63   Train Loss: 0.299   \n",
            "Epoch: 64   Train Loss: 0.297   \n",
            "Epoch: 65   Train Loss: 0.299   \n",
            "Epoch: 66   Train Loss: 0.294   \n",
            "Epoch: 67   Train Loss: 0.297   \n",
            "Epoch: 68   Train Loss: 0.296   \n",
            "Epoch: 69   Train Loss: 0.293   \n",
            "Epoch: 70   Train Loss: 0.299   \n",
            "Epoch: 71   Train Loss: 0.296   \n",
            "Epoch: 72   Train Loss: 0.293   \n",
            "Epoch: 73   Train Loss: 0.293   \n",
            "Epoch: 74   Train Loss: 0.297   \n",
            "Epoch: 75   Train Loss: 0.293   \n",
            "Epoch: 76   Train Loss: 0.293   \n",
            "Epoch: 77   Train Loss: 0.292   \n",
            "Epoch: 78   Train Loss: 0.292   \n",
            "Epoch: 79   Train Loss: 0.292   \n",
            "Epoch: 80   Train Loss: 0.296   \n",
            "Epoch: 81   Train Loss: 0.295   \n",
            "Epoch: 82   Train Loss: 0.293   \n",
            "Epoch: 83   Train Loss: 0.287   \n",
            "Epoch: 84   Train Loss: 0.292   \n",
            "Epoch: 85   Train Loss: 0.291   \n",
            "Epoch: 86   Train Loss: 0.293   \n",
            "Epoch: 87   Train Loss: 0.294   \n",
            "Epoch: 88   Train Loss: 0.287   \n",
            "Epoch: 89   Train Loss: 0.289   \n",
            "Epoch: 90   Train Loss: 0.291   \n",
            "Epoch: 91   Train Loss: 0.296   \n",
            "Epoch: 92   Train Loss: 0.286   \n",
            "Epoch: 93   Train Loss: 0.282   \n",
            "Epoch: 94   Train Loss: 0.284   \n",
            "Epoch: 95   Train Loss: 0.288   \n",
            "Epoch: 96   Train Loss: 0.287   \n",
            "Epoch: 97   Train Loss: 0.283   \n",
            "Epoch: 98   Train Loss: 0.287   \n",
            "Epoch: 99   Train Loss: 0.283   \n",
            "Epoch: 100   Train Loss: 0.285   \n"
          ]
        }
      ]
    },
    {
      "cell_type": "code",
      "source": [
        "np.mean(a_tr_loss)"
      ],
      "metadata": {
        "colab": {
          "base_uri": "https://localhost:8080/"
        },
        "id": "T3tNwZBRt8fm",
        "outputId": "a56653cc-c164-467b-ab43-36b162ffdfb8"
      },
      "execution_count": 144,
      "outputs": [
        {
          "output_type": "execute_result",
          "data": {
            "text/plain": [
              "0.3100883160754564"
            ]
          },
          "metadata": {},
          "execution_count": 144
        }
      ]
    },
    {
      "cell_type": "code",
      "source": [
        "import matplotlib.pyplot as plt\n",
        "plt.plot(a_tr_loss)"
      ],
      "metadata": {
        "colab": {
          "base_uri": "https://localhost:8080/",
          "height": 282
        },
        "id": "3RhuVET0qRj0",
        "outputId": "5feefa22-49b3-4497-969e-a7c05c9d7419"
      },
      "execution_count": 145,
      "outputs": [
        {
          "output_type": "execute_result",
          "data": {
            "text/plain": [
              "[<matplotlib.lines.Line2D at 0x7fa10cdeb890>]"
            ]
          },
          "metadata": {},
          "execution_count": 145
        },
        {
          "output_type": "display_data",
          "data": {
            "text/plain": [
              "<Figure size 432x288 with 1 Axes>"
            ],
            "image/png": "[encoded data removed]"
          },
          "metadata": {
            "needs_background": "light"
          }
        }
      ]
    },
    {
      "cell_type": "code",
      "execution_count": 146,
      "metadata": {
        "colab": {
          "base_uri": "https://localhost:8080/"
        },
        "id": "Y67QltdwNVqS",
        "outputId": "86572c85-0c45-471f-e2dc-7acab2fab577"
      },
      "outputs": [
        {
          "output_type": "stream",
          "name": "stdout",
          "text": [
            "training auc:  0.9430442265281165\n"
          ]
        }
      ],
      "source": [
        "# compute the training accuracy\n",
        "with torch.no_grad():\n",
        "    predict = model(torch.Tensor(Xtr_standardized)).detach().numpy().ravel()\n",
        "\n",
        "auc = roc_auc_score(ytr_standardized,predict)\n",
        "print('training auc: ',auc)"
      ]
    },
    {
      "cell_type": "code",
      "source": [
        "bin_pred = np.round(predict)\n",
        "value, count = np.unique(bin_pred,return_counts = True)\n",
        "dict(zip(value, count))"
      ],
      "metadata": {
        "colab": {
          "base_uri": "https://localhost:8080/"
        },
        "id": "Zw5ThUgfTmoA",
        "outputId": "defc9131-7320-459e-e4da-fe3922123524"
      },
      "execution_count": 147,
      "outputs": [
        {
          "output_type": "execute_result",
          "data": {
            "text/plain": [
              "{0.0: 3134, 1.0: 6866}"
            ]
          },
          "metadata": {},
          "execution_count": 147
        }
      ]
    },
    {
      "cell_type": "code",
      "source": [
        "from sklearn.metrics._plot.confusion_matrix import confusion_matrix, ConfusionMatrixDisplay\n",
        "cm = confusion_matrix(ytr_standardized, bin_pred)\n",
        "disp = ConfusionMatrixDisplay(cm)\n",
        "disp.plot()"
      ],
      "metadata": {
        "colab": {
          "base_uri": "https://localhost:8080/",
          "height": 296
        },
        "id": "0jiBKtF7TX98",
        "outputId": "c229a4d9-6b35-4957-8611-83f512d87900"
      },
      "execution_count": 148,
      "outputs": [
        {
          "output_type": "execute_result",
          "data": {
            "text/plain": [
              "<sklearn.metrics._plot.confusion_matrix.ConfusionMatrixDisplay at 0x7fa10cc7bad0>"
            ]
          },
          "metadata": {},
          "execution_count": 148
        },
        {
          "output_type": "display_data",
          "data": {
            "text/plain": [
              "<Figure size 432x288 with 2 Axes>"
            ],
            "image/png": "[encoded data removed]"
          },
          "metadata": {
            "needs_background": "light"
          }
        }
      ]
    },
    {
      "cell_type": "code",
      "source": [
        "from sklearn.metrics import classification_report\n",
        "print(classification_report(ytr_standardized, bin_pred))"
      ],
      "metadata": {
        "colab": {
          "base_uri": "https://localhost:8080/"
        },
        "id": "AKT0TCHYVKSD",
        "outputId": "64295bd6-55ff-457d-fa4e-2fa8fc7af0c6"
      },
      "execution_count": 149,
      "outputs": [
        {
          "output_type": "stream",
          "name": "stdout",
          "text": [
            "              precision    recall  f1-score   support\n",
            "\n",
            "         0.0       0.88      0.79      0.83      3506\n",
            "         1.0       0.89      0.94      0.92      6494\n",
            "\n",
            "    accuracy                           0.89     10000\n",
            "   macro avg       0.88      0.86      0.87     10000\n",
            "weighted avg       0.89      0.89      0.89     10000\n",
            "\n"
          ]
        }
      ]
    },
    {
      "cell_type": "code",
      "execution_count": 150,
      "metadata": {
        "id": "gonV7NF5NVqT"
      },
      "outputs": [],
      "source": [
        "# save the model: you must use the .pth format for pytorch models!\n",
        "model_savepath = 'model.pth'\n",
        "\n",
        "# To save a PyTorch model, we first pass an input through the model, \n",
        "# and then save the \"trace\". \n",
        "# For this purpose, we can use any input. \n",
        "# We will create a random input with the proper dimension.\n",
        "x = torch.randn(d_in) # random input\n",
        "x = x[None,:] # add singleton batch index\n",
        "with torch.no_grad():\n",
        "    traced_cell = torch.jit.trace(model, (x))\n",
        "\n",
        "# Now we save the trace\n",
        "torch.jit.save(traced_cell, model_savepath)"
      ]
    },
    {
      "cell_type": "code",
      "execution_count": 151,
      "metadata": {
        "id": "5sv3_u4jNVqT",
        "outputId": "655ec779-6a49-4125-fd94-a4dad0872c29",
        "colab": {
          "base_uri": "https://localhost:8080/"
        }
      },
      "outputs": [
        {
          "output_type": "stream",
          "name": "stdout",
          "text": [
            "training auc =  0.9430442265281165\n",
            "test label confidences saved in yts_hat_pytorch.csv\n"
          ]
        }
      ],
      "source": [
        "# generate kaggle submission file using the validation script\n",
        "!python {\"validation.py \" + model_savepath + \" --Xts_path \" + Xts_savepath + \" --Xtr_path \" + Xtr_savepath + \" --yts_hat_path \" + yts_hat_savepath } "
      ]
    },
    {
      "cell_type": "code",
      "execution_count": null,
      "metadata": {
        "id": "05Tz0vpcNVqT"
      },
      "outputs": [],
      "source": []
    }
  ],
  "metadata": {
    "kernelspec": {
      "display_name": "Python 3",
      "language": "python",
      "name": "python3"
    },
    "language_info": {
      "codemirror_mode": {
        "name": "ipython",
        "version": 3
      },
      "file_extension": ".py",
      "mimetype": "text/x-python",
      "name": "python",
      "nbconvert_exporter": "python",
      "pygments_lexer": "ipython3",
      "version": "3.8.8"
    },
    "varInspector": {
      "cols": {
        "lenName": 16,
        "lenType": 16,
        "lenVar": 40
      },
      "kernels_config": {
        "python": {
          "delete_cmd_postfix": "",
          "delete_cmd_prefix": "del ",
          "library": "var_list.py",
          "varRefreshCmd": "print(var_dic_list())"
        },
        "r": {
          "delete_cmd_postfix": ") ",
          "delete_cmd_prefix": "rm(",
          "library": "var_list.r",
          "varRefreshCmd": "cat(var_dic_list()) "
        }
      },
      "types_to_exclude": [
        "module",
        "function",
        "builtin_function_or_method",
        "instance",
        "_Feature"
      ],
      "window_display": false
    },
    "colab": {
      "provenance": [],
      "include_colab_link": true
    }
  },
  "nbformat": 4,
  "nbformat_minor": 0
}